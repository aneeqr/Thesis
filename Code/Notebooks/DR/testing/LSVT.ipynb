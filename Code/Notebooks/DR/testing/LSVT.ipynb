{
 "cells": [
  {
   "cell_type": "code",
   "execution_count": 6,
   "metadata": {},
   "outputs": [],
   "source": [
    "import torch\n",
    "import matplotlib.pyplot as plt\n",
    "from sklearn.model_selection import train_test_split\n",
    "from sklearn.neural_network import MLPClassifier\n",
    "from sklearn.metrics import accuracy_score, confusion_matrix\n",
    "from sklearn.decomposition import PCA\n",
    "import numpy as np \n",
    "from __future__ import absolute_import, division, print_function\n",
    "import pyro\n",
    "from pyro.contrib.gp.util import Parameterized\n",
    "import pyro.distributions as dist\n",
    "import pyro.infer as infer\n",
    "import pyro.optim as optim\n",
    "from pyro.params import param_with_module_name\n",
    "import pyro.contrib.gp as gp\n",
    "import pyro.distributions as dist\n",
    "import matplotlib.pyplot as plt\n",
    "pyro.clear_param_store()\n",
    "import tensorflow as tf\n",
    "import numpy as np \n",
    "import pandas as pd\n",
    "import numpy\n",
    "import math\n",
    "import cProfile\n",
    "import time\n",
    "import GPy\n",
    "import numpy as np\n",
    "from matplotlib import pyplot as plt\n",
    "\n",
    "#import statsmodels.api as sm\n",
    "#import sympy as sp\n",
    "#import pymc\n",
    "import matplotlib.pyplot as plt\n",
    "import matplotlib.gridspec as gridspec\n",
    "from mpl_toolkits.mplot3d import Axes3D\n",
    "from scipy import stats\n",
    "from scipy.special import gamma\n",
    "from GPy.core.parameterization.variational import NormalPosterior, NormalPrior\n",
    "\n",
    "#from sympy.interactive import printing\n",
    "import pyro.contrib.gp.models.vsgp as vsgp\n",
    "from GPy.util.linalg import pdinv\n",
    "from pyro.infer.mcmc.hmc import HMC\n",
    "from pyro.infer.mcmc import MCMC\n",
    "from matplotlib import pyplot\n",
    "pyro.clear_param_store()\n",
    "import time\n",
    "torch.manual_seed(12)\n",
    "pyro.set_rng_seed(101)\n",
    "import matplotlib.pyplot as plt\n",
    "from sklearn.model_selection import train_test_split\n",
    "from sklearn.neural_network import MLPClassifier\n",
    "from sklearn.metrics import accuracy_score, confusion_matrix\n",
    "from sklearn.decomposition import PCA\n",
    "import numpy as np \n",
    "import gpflow"
   ]
  },
  {
   "cell_type": "code",
   "execution_count": 7,
   "metadata": {},
   "outputs": [],
   "source": [
    "import pandas as pd\n",
    "data = pd.read_csv('LSVT_voice_rehabilitation.csv')\n",
    "label= data['OQ->prc5_95']\n",
    "data = data.drop(['OQ->prc5_95'],axis=1)\n",
    "X = np.array(data)"
   ]
  },
  {
   "cell_type": "code",
   "execution_count": 8,
   "metadata": {},
   "outputs": [],
   "source": [
    "N = X.shape[0]\n",
    "sample_mean = np.mean(X[:N,:])\n",
    "sample_std = np.std(X[:N,:])\n",
    "sample_norm = (X[:N,:] - sample_mean)/sample_std # normalisation\n",
    "X_flat = np.array(sample_norm)"
   ]
  },
  {
   "cell_type": "code",
   "execution_count": 14,
   "metadata": {},
   "outputs": [],
   "source": [
    "from sklearn.decomposition import PCA, KernelPCA\n",
    "from sklearn import manifold, datasets"
   ]
  },
  {
   "cell_type": "code",
   "execution_count": 10,
   "metadata": {},
   "outputs": [],
   "source": [
    "kpca = KernelPCA(kernel=\"rbf\", fit_inverse_transform=True,n_components=15)\n",
    "X_kpca = kpca.fit_transform(X_flat)\n",
    "X_back = kpca.inverse_transform(X_kpca)"
   ]
  },
  {
   "cell_type": "code",
   "execution_count": 15,
   "metadata": {},
   "outputs": [],
   "source": [
    "Iso = manifold.Isomap(n_neighbors=2, n_components=15)\n",
    "X_back = Iso.fit_transform(X_flat)"
   ]
  },
  {
   "cell_type": "code",
   "execution_count": 32,
   "metadata": {},
   "outputs": [],
   "source": [
    "methods = ['standard']\n",
    "labels = ['LLE']\n",
    "for i, method in enumerate(methods):\n",
    "    X_back = manifold.LocallyLinearEmbedding(n_neighbors=2, n_components=15,\n",
    "                                        eigen_solver='auto',\n",
    "                                        method=method).fit_transform(X_flat)"
   ]
  },
  {
   "cell_type": "code",
   "execution_count": 26,
   "metadata": {},
   "outputs": [],
   "source": [
    "from sklearn.decomposition import PCA\n",
    "pca = PCA(n_components=15)\n",
    "X_back = pca.fit_transform(X_flat)"
   ]
  },
  {
   "cell_type": "code",
   "execution_count": 36,
   "metadata": {},
   "outputs": [],
   "source": [
    "mds = manifold.MDS(n_components=15, max_iter=100, n_init=1)\n",
    "X_back = mds.fit_transform(X_flat)"
   ]
  },
  {
   "cell_type": "code",
   "execution_count": 44,
   "metadata": {},
   "outputs": [],
   "source": [
    "Iso = manifold.Isomap(n_neighbors=2, n_components=15)\n",
    "X_back = Iso.fit_transform(X_flat)"
   ]
  },
  {
   "cell_type": "code",
   "execution_count": 41,
   "metadata": {},
   "outputs": [
    {
     "name": "stderr",
     "output_type": "stream",
     "text": [
      " /home/aneeqr/.local/lib/python3.6/site-packages/sklearn/manifold/spectral_embedding_.py:234: UserWarning:Graph is not fully connected, spectral embedding may not work as expected.\n"
     ]
    }
   ],
   "source": [
    "se = manifold.SpectralEmbedding(n_components=15,\n",
    "                                n_neighbors=2)\n",
    "X_back = se.fit_transform(X_flat)"
   ]
  },
  {
   "cell_type": "code",
   "execution_count": 69,
   "metadata": {},
   "outputs": [
    {
     "data": {
      "text/plain": [
       "1"
      ]
     },
     "execution_count": 69,
     "metadata": {},
     "output_type": "execute_result"
    }
   ],
   "source": [
    "pca_dims = PCA()\n",
    "pca_dims.fit(X_flat)\n",
    "cumsum = np.cumsum(pca_dims.explained_variance_ratio_)\n",
    "d = np.argmax(cumsum >= 0.95) + 1\n",
    "d"
   ]
  },
  {
   "cell_type": "code",
   "execution_count": 70,
   "metadata": {},
   "outputs": [
    {
     "data": {
      "text/plain": [
       "Text(0.5,1,'PCA Explained Variance Ratio')"
      ]
     },
     "execution_count": 70,
     "metadata": {},
     "output_type": "execute_result"
    },
    {
     "data": {
      "image/png": "[encoded data removed]",
      "text/plain": [
       "<Figure size 432x288 with 1 Axes>"
      ]
     },
     "metadata": {},
     "output_type": "display_data"
    }
   ],
   "source": [
    "plt.figure()\n",
    "plt.plot(list(range(len(pca_dims.explained_variance_ratio_))),cumsum)\n",
    "plt.grid()\n",
    "plt.xlabel('Input Dimensions')\n",
    "plt.ylabel('Explained Variance Ratio')\n",
    "plt.title('PCA Explained Variance Ratio')"
   ]
  },
  {
   "cell_type": "code",
   "execution_count": 78,
   "metadata": {},
   "outputs": [],
   "source": [
    "kpca = KernelPCA(kernel=\"rbf\", fit_inverse_transform=True)\n",
    "X_kpca = kpca.fit_transform(X_flat)\n",
    "explained_variance = numpy.var(X_kpca, axis=0)\n",
    "explained_variance_ratio = explained_variance / numpy.sum(explained_variance)"
   ]
  },
  {
   "cell_type": "code",
   "execution_count": 83,
   "metadata": {},
   "outputs": [
    {
     "data": {
      "text/plain": [
       "4"
      ]
     },
     "execution_count": 83,
     "metadata": {},
     "output_type": "execute_result"
    }
   ],
   "source": [
    "cumsum2 = np.cumsum(explained_variance_ratio)\n",
    "d = np.argmax(cumsum2 >= 0.95) + 1"
   ]
  },
  {
   "cell_type": "code",
   "execution_count": 60,
   "metadata": {},
   "outputs": [],
   "source": [
    "import pickle"
   ]
  },
  {
   "cell_type": "code",
   "execution_count": 84,
   "metadata": {},
   "outputs": [],
   "source": [
    "a={}\n",
    "a['PCA_dim']=  list(range(len(pca_dims.explained_variance_ratio_)))\n",
    "a['dim'] = X_flat.shape\n",
    "a['PCA_ratio'] = cumsum\n",
    "a['KPA_ratio'] = cumsum2\n",
    "pickle.dump(a, open( \"LSVTPCA.p\", \"wb\" ) )"
   ]
  },
  {
   "cell_type": "code",
   "execution_count": 63,
   "metadata": {},
   "outputs": [
    {
     "data": {
      "text/plain": [
       "(126, 309)"
      ]
     },
     "execution_count": 63,
     "metadata": {},
     "output_type": "execute_result"
    }
   ],
   "source": [
    "X_flat.shape"
   ]
  },
  {
   "cell_type": "code",
   "execution_count": null,
   "metadata": {},
   "outputs": [],
   "source": [
    "pickle.dump()"
   ]
  },
  {
   "cell_type": "code",
   "execution_count": 49,
   "metadata": {},
   "outputs": [],
   "source": [
    "kpca = KernelPCA(kernel=\"rbf\", fit_inverse_transform=True)\n",
    "X_kpca = kpca.fit_transform(X_flat)\n",
    "explained_variance = numpy.var(X_kpca, axis=0)\n",
    "explained_variance_ratio = explained_variance / numpy.sum(explained_variance)"
   ]
  },
  {
   "cell_type": "code",
   "execution_count": 57,
   "metadata": {},
   "outputs": [
    {
     "name": "stdout",
     "output_type": "stream",
     "text": [
      "4\n"
     ]
    }
   ],
   "source": [
    "a = numpy.cumsum(explained_variance_ratio)\n",
    "d=1\n",
    "for i in a:\n",
    "    if i > 0.95:\n",
    "        print(d)\n",
    "        break\n",
    "    d+=1"
   ]
  },
  {
   "cell_type": "code",
   "execution_count": 45,
   "metadata": {},
   "outputs": [
    {
     "name": "stdout",
     "output_type": "stream",
     "text": [
      "Neearest neighbourboost size k =1 Continuity:0.981694828469022\n",
      "Neearest neighbourboost size k =3 Continuity:0.9452971271153089\n",
      "Neearest neighbourboost size k =5 Continuity:0.88954802259887\n",
      "Neearest neighbourboost size k =7 Continuity:0.8502612639258602\n",
      "Neearest neighbourboost size k =10 Continuity:0.8083099906629319\n"
     ]
    }
   ],
   "source": [
    "dd_orig = distance_matrix(X_flat)\n",
    "dd_proj = distance_matrix(X_back)\n",
    "nn_orig = dd_orig.argsort()\n",
    "nn_proj = dd_proj.argsort()\n",
    "ranks_proj = rank_matrix(dd_proj)\n",
    "ks=[1,3,5,7,10]\n",
    "j=0\n",
    "cont=[]\n",
    "for k in ks:\n",
    "    moved = []\n",
    "    for i in range(X_flat.shape[0]):\n",
    "        moved.append(moved_out(nn_orig, nn_proj, i, k))\n",
    "    cont.append(trustcont_sum(moved, ranks_proj, k))\n",
    "    print('Neearest neighbourboost size k =' + str(k)+ ' ' + 'Continuity:' + str(cont[j]))\n",
    "    j+=1"
   ]
  },
  {
   "cell_type": "code",
   "execution_count": 46,
   "metadata": {},
   "outputs": [
    {
     "name": "stdout",
     "output_type": "stream",
     "text": [
      "Neearest neighbourboost size k =1 Trust:0.9167306707629288\n",
      "Neearest neighbourboost size k =3 Trust:0.9087410905592723\n",
      "Neearest neighbourboost size k =5 Trust:0.8723701910142588\n",
      "Neearest neighbourboost size k =7 Trust:0.8490584639652963\n",
      "Neearest neighbourboost size k =10 Trust:0.8180995475113122\n"
     ]
    }
   ],
   "source": [
    "ranks_orig =rank_matrix(dd_orig)\n",
    "trust = []\n",
    "j=0\n",
    "for k in ks:\n",
    "    moved = []\n",
    "    for i in range(X_flat.shape[0]):\n",
    "        moved.append(moved_in(nn_orig, nn_proj, i, k))\n",
    "    trust.append(trustcont_sum(moved, ranks_orig, k))\n",
    "    print('Neearest neighbourboost size k =' + str(k)+ ' ' + 'Trust:' + str(trust[j]))\n",
    "    j+=1"
   ]
  },
  {
   "cell_type": "code",
   "execution_count": 5,
   "metadata": {},
   "outputs": [],
   "source": [
    "def d_euclidean(a,b):\n",
    "    \"\"\"Returns euclidean distance between vectors a and b\"\"\"\n",
    "\n",
    "    return math.sqrt(sum([ (x - y)**2 for (x,y) in zip (a,b) ]))\n",
    "def rank_matrix(x):\n",
    "    \"\"\"Returns rank matrix from pairwise distance matrix a\"\"\"\n",
    "    \n",
    "    m = x.argsort()\n",
    "    r = numpy.zeros(x.shape)\n",
    "\n",
    "    vectors = x.shape[0]\n",
    "\n",
    "    for i in range(vectors):\n",
    "        for j in range(vectors):\n",
    "            pos = numpy.where(m[i,:]==j)\n",
    "            r[i,j] = pos[0][0] # there should be a better syntax for this\n",
    "        \n",
    "    return r.astype('int')\n",
    "\n",
    "\n",
    "def centering(x):\n",
    "    \"\"\"Center matrix x to origo\"\"\"\n",
    "    return x - x.mean(axis=0)\n",
    "\n",
    "\n",
    "def double_centering(x):\n",
    "    \"\"\"Double center matrix x\"\"\"\n",
    "    pass\n",
    "\n",
    "def distance_matrix(x, distf=None):\n",
    "    \"\"\"Returns distance matrix of pairwise distances between vectors\n",
    "    stored in array a\n",
    "\n",
    "    distf is function used to calculate distance between vectors,\n",
    "    if None, euclidean distance is used\n",
    "    \"\"\"\n",
    "\n",
    "    if distf == None:\n",
    "        distf = d_euclidean\n",
    "\n",
    "    vectors = x.shape[0]\n",
    "    d = numpy.zeros([vectors, vectors])\n",
    "\n",
    "    for i in range(vectors):\n",
    "        for j in range(i,vectors):\n",
    "            dd = distf(x[i,:], x[j,:])\n",
    "            d[i,j] = dd\n",
    "            d[j,i] = dd\n",
    "\n",
    "    return d\n",
    "def moved_out(nn_orig, nn_proj, i, k):\n",
    "    \"\"\"Determine points that were neighbours in the original space,\n",
    "    but are not neighbours in the projection space.\n",
    "\n",
    "    nn_orig\n",
    "      neighbourhood matrix for original data\n",
    "\n",
    "    nn_proj\n",
    "      neighbourhood matrix for projection data\n",
    "\n",
    "    i\n",
    "      index of the point considered\n",
    "\n",
    "    k\n",
    "      size of the neighbourhood considered\n",
    "\n",
    "    Return a list of indices for 'moved out' values \n",
    "    \"\"\"\n",
    "\n",
    "    oo = list(nn_orig[i, 1:k+1])\n",
    "    pp = list(nn_proj[i, 1:k+1])\n",
    "\n",
    "    for j in pp:\n",
    "        if (j in pp) and (j in oo):\n",
    "            oo.remove(j)\n",
    "\n",
    "    return oo\n",
    "def moved_in(nn_orig, nn_proj, i, k):\n",
    "    \"\"\"Determine points that are neighbours in the projection space,\n",
    "    but were not neighbours in the original space.\n",
    "\n",
    "    nn_orig\n",
    "      neighbourhood matrix for original data\n",
    "\n",
    "    nn_proj\n",
    "      neighbourhood matrix for projection data\n",
    "\n",
    "    i\n",
    "      index of the point considered\n",
    "\n",
    "    k\n",
    "      size of the neighbourhood considered\n",
    "\n",
    "    Return a list of indices for points which are 'moved in' to point i\n",
    "    \"\"\"\n",
    "\n",
    "    pp = list(nn_proj[i, 1:k+1])\n",
    "    oo = list(nn_orig[i, 1:k+1])\n",
    "\n",
    "    for j in oo:\n",
    "        if (j in oo) and (j in pp):\n",
    "            pp.remove(j)\n",
    "\n",
    "    return pp\n",
    "\n",
    "\n",
    "def scaling_term(k, n):\n",
    "    \"\"\"Term that scales measure between zero and one\n",
    "\n",
    "    k  size of the neighbourhood\n",
    "    n  number of datapoints\n",
    "    \"\"\"\n",
    "\n",
    "    if k < (n / 2.0):\n",
    "        return 2.0 / ((n*k)*(2*n - 3*k - 1))\n",
    "    else:\n",
    "        return 2.0 / (n * (n - k) * (n - k - 1))\n",
    "\n",
    "\n",
    "def trustcont_sum(moved, ranks, k):\n",
    "    \"\"\"Calculate sum used in trustworthiness or continuity calculation.\n",
    "\n",
    "    moved\n",
    "\n",
    "       List of lists of indices for those datapoints that have either\n",
    "       moved away in (Continuity) or moved in (Trustworthiness)\n",
    "       projection\n",
    "\n",
    "    ranks\n",
    "\n",
    "       Rank matrix of data set. For trustworthiness, ranking is in the\n",
    "       original space, for continuity, ranking is in the projected\n",
    "       space.\n",
    "\n",
    "    k\n",
    "       size of the neighbournood\n",
    "    \"\"\"\n",
    "\n",
    "    n = ranks.shape[0]\n",
    "    s = 0\n",
    "\n",
    "    # todo: weavefy this for speed\n",
    "    for i in range(n):\n",
    "        for j in moved[i]:\n",
    "            s = s + (ranks[i, j] - k)\n",
    "\n",
    "    a = scaling_term(k, n)\n",
    "\n",
    "    return 1 - a * s"
   ]
  },
  {
   "cell_type": "code",
   "execution_count": null,
   "metadata": {},
   "outputs": [],
   "source": []
  }
 ],
 "metadata": {
  "kernelspec": {
   "display_name": "Python 3",
   "language": "python",
   "name": "python3"
  },
  "language_info": {
   "codemirror_mode": {
    "name": "ipython",
    "version": 3
   },
   "file_extension": ".py",
   "mimetype": "text/x-python",
   "name": "python",
   "nbconvert_exporter": "python",
   "pygments_lexer": "ipython3",
   "version": "3.6.5"
  }
 },
 "nbformat": 4,
 "nbformat_minor": 2
}
