{
 "cells": [
  {
   "cell_type": "code",
   "execution_count": 1,
   "metadata": {},
   "outputs": [],
   "source": [
    "import matplotlib.pyplot as plt\n",
    "from sklearn.model_selection import train_test_split\n",
    "from sklearn.neural_network import MLPClassifier\n",
    "from sklearn.metrics import accuracy_score, confusion_matrix\n",
    "from sklearn.decomposition import PCA\n",
    "import numpy as np \n",
    "import GPy\n",
    "import torch\n",
    "from __future__ import absolute_import, division, print_function\n",
    "import torch\n",
    "from torch.distributions import constraints\n",
    "from torch.nn import Parameter\n",
    "import pyro\n",
    "from pyro.contrib.gp.util import Parameterized\n",
    "import pyro.distributions as dist\n",
    "import pyro.infer as infer\n",
    "import pyro.optim as optim\n",
    "from pyro.params import param_with_module_name\n",
    "import pyro.contrib.gp as gp\n",
    "import pyro.distributions as dist\n",
    "import matplotlib.pyplot as plt\n",
    "pyro.clear_param_store()\n",
    "import tensorflow as tf\n",
    "import numpy as np \n",
    "import pandas as pd\n",
    "import numpy\n",
    "import math\n",
    "import cProfile\n",
    "import time\n",
    "import GPy\n",
    "import numpy as np\n",
    "from matplotlib import pyplot as plt\n",
    "\n",
    "\n",
    "#import pymc\n",
    "import matplotlib.pyplot as plt\n",
    "import matplotlib.gridspec as gridspec\n",
    "from mpl_toolkits.mplot3d import Axes3D\n",
    "from scipy import stats\n",
    "from scipy.special import gamma\n",
    "from GPy.core.parameterization.variational import NormalPosterior, NormalPrior\n",
    "\n",
    "import pyro.contrib.gp.models.vsgp as vsgp\n",
    "from GPy.util.linalg import pdinv\n",
    "from pyro.infer.mcmc.hmc import HMC\n",
    "from pyro.infer.mcmc import MCMC\n",
    "from matplotlib import pyplot\n",
    "pyro.clear_param_store()\n",
    "import time\n",
    "torch.manual_seed(12)\n",
    "pyro.set_rng_seed(101)\n",
    "import matplotlib.pyplot as plt\n",
    "from sklearn.model_selection import train_test_split\n",
    "from sklearn.neural_network import MLPClassifier\n",
    "from sklearn.metrics import accuracy_score, confusion_matrix\n",
    "from sklearn.decomposition import PCA\n",
    "import numpy as np \n",
    "import gpflow\n",
    "from sklearn.neighbors import KNeighborsClassifier\n",
    "from sklearn.svm import SVC\n",
    "from sklearn.gaussian_process import GaussianProcessClassifier\n",
    "from sklearn.gaussian_process.kernels import RBF\n",
    "from sklearn.tree import DecisionTreeClassifier\n",
    "from sklearn.ensemble import RandomForestClassifier, AdaBoostClassifier\n",
    "from sklearn.naive_bayes import GaussianNB\n",
    "from sklearn.discriminant_analysis import QuadraticDiscriminantAnalysis\n",
    "from __future__ import print_function\n",
    "import gpflow\n",
    "from gpflow import kernels\n",
    "import numpy as np\n",
    "import matplotlib as mpl\n",
    "import matplotlib.pyplot as plt\n",
    "import matplotlib.cm as cm\n",
    "%matplotlib inline\n",
    "gpflow.settings.numerics.quadrature = 'error'  # throw error if quadrature is used for kernel expectations"
   ]
  },
  {
   "cell_type": "code",
   "execution_count": 2,
   "metadata": {},
   "outputs": [],
   "source": [
    "X = np.load('X.npy')\n",
    "Y = np.load('Y.npy')\n",
    "N = X.shape[0]\n",
    "sample_mean = np.mean(X[:N,:])\n",
    "sample_std = np.std(X[:N,:])\n",
    "sample_norm = (X[:N,:] - sample_mean)/sample_std # normalisation\n",
    "X_flat = np.array(sample_norm).reshape((2062, 64*64))"
   ]
  },
  {
   "cell_type": "code",
   "execution_count": 3,
   "metadata": {},
   "outputs": [],
   "source": [
    "M = 100  # number of inducing pts\n",
    "N = X_flat.shape[0]\n",
    "Q=10\n",
    "X_mean = gpflow.models.PCA_reduce(X_flat, Q) # Initialise via PCA\n",
    "Z = np.random.permutation(X_mean.copy())[:M]\n",
    "k = (kernels.RBF(Q, ARD=True))\n",
    "m4 = gpflow.models.BayesianGPLVM(X_mean=X_mean, X_var=0.1*np.ones((N, Q)), Y= tf.cast(X_flat, tf.float64),\n",
    "                                kern=k, M=M, Z=Z)"
   ]
  },
  {
   "cell_type": "code",
   "execution_count": 4,
   "metadata": {},
   "outputs": [],
   "source": [
    "m4.likelihood.variance= 0.2953218115879997"
   ]
  },
  {
   "cell_type": "code",
   "execution_count": 5,
   "metadata": {},
   "outputs": [],
   "source": [
    "m4.compile()\n",
    "o = gpflow.train.AdamOptimizer(0.01)\n",
    "#o.minimize(m4, maxiter=100) # start near MAP"
   ]
  },
  {
   "cell_type": "code",
   "execution_count": 6,
   "metadata": {},
   "outputs": [],
   "source": [
    "s = gpflow.train.HMC()\n",
    "samples = s.sample(m4, 100, epsilon=0.12, lmax=20, lmin=5, thin=5, logprobs=True)"
   ]
  },
  {
   "cell_type": "code",
   "execution_count": 7,
   "metadata": {},
   "outputs": [],
   "source": [
    "X_loc = np.average(samples['BayesianGPLVM/X_mean'], axis=0)\n",
    "X_var = np.average(samples['BayesianGPLVM/X_var'], axis=0)\n",
    "log_prob = samples.logprobs"
   ]
  },
  {
   "cell_type": "code",
   "execution_count": 8,
   "metadata": {},
   "outputs": [],
   "source": [
    "X_train, X_test, y_train, y_test = train_test_split(X_loc, Y, test_size=0.3, random_state=42)"
   ]
  },
  {
   "cell_type": "code",
   "execution_count": 9,
   "metadata": {},
   "outputs": [],
   "source": [
    "clf = MLPClassifier(solver='adam', alpha=1e-5, hidden_layer_sizes=(100, 100, 100, 100), random_state=1)"
   ]
  },
  {
   "cell_type": "code",
   "execution_count": 10,
   "metadata": {},
   "outputs": [],
   "source": [
    "names = [\"Nearest Neighbors\", \"Gaussian Process\",\n",
    "         \"Decision Tree\", \"Random Forest\", \"AdaBoost\",\n",
    "         \"Naive Bayes\", \"QDA\",\"Linear SVC\"]"
   ]
  },
  {
   "cell_type": "code",
   "execution_count": 11,
   "metadata": {},
   "outputs": [],
   "source": [
    "classifiers = [\n",
    "    KNeighborsClassifier(3),\n",
    "    GaussianProcessClassifier(1.0 * RBF(1.0)),\n",
    "    DecisionTreeClassifier(max_depth=5),\n",
    "    RandomForestClassifier(max_depth=5, n_estimators=10, max_features=1,random_state=42),\n",
    "    AdaBoostClassifier(),\n",
    "    GaussianNB(),\n",
    "    QuadraticDiscriminantAnalysis(),\n",
    "    SVC(kernel=\"linear\", C=0.025)]"
   ]
  },
  {
   "cell_type": "code",
   "execution_count": 12,
   "metadata": {},
   "outputs": [],
   "source": [
    "parameters = [\n",
    "              {'C': [1, 10, 100], 'kernel': ['linear']},\n",
    "              {'C': [1, 10, 100], 'gamma': [0.1,0.001, 0.0001], 'kernel': ['rbf','sigmoid','poly']},\n",
    "             ]"
   ]
  },
  {
   "cell_type": "code",
   "execution_count": 13,
   "metadata": {},
   "outputs": [],
   "source": [
    "from sklearn import svm, datasets\n",
    "from sklearn.model_selection import GridSearchCV"
   ]
  },
  {
   "cell_type": "code",
   "execution_count": 14,
   "metadata": {},
   "outputs": [],
   "source": [
    "model = svm.SVC()\n",
    "clf3 = GridSearchCV(model, parameters)\n",
    "unique_rows = np.unique(y_train, axis=0)\n",
    "i=0\n",
    "d={}\n",
    "for i in range(len(unique_rows)):\n",
    "    d[str(unique_rows[i])]=i\n",
    "temp_train=[]\n",
    "for i in y_train:\n",
    "    temp_train.append(d[str(i)])"
   ]
  },
  {
   "cell_type": "code",
   "execution_count": 15,
   "metadata": {},
   "outputs": [
    {
     "data": {
      "text/plain": [
       "GridSearchCV(cv=None, error_score='raise',\n",
       "       estimator=SVC(C=1.0, cache_size=200, class_weight=None, coef0=0.0,\n",
       "  decision_function_shape='ovr', degree=3, gamma='auto', kernel='rbf',\n",
       "  max_iter=-1, probability=False, random_state=None, shrinking=True,\n",
       "  tol=0.001, verbose=False),\n",
       "       fit_params=None, iid=True, n_jobs=1,\n",
       "       param_grid=[{'C': [1, 10, 100], 'kernel': ['linear']}, {'C': [1, 10, 100], 'gamma': [0.1, 0.001, 0.0001], 'kernel': ['rbf', 'sigmoid', 'poly']}],\n",
       "       pre_dispatch='2*n_jobs', refit=True, return_train_score='warn',\n",
       "       scoring=None, verbose=0)"
      ]
     },
     "execution_count": 15,
     "metadata": {},
     "output_type": "execute_result"
    }
   ],
   "source": [
    "clf3.fit(X_train, np.array(temp_train))"
   ]
  },
  {
   "cell_type": "code",
   "execution_count": 16,
   "metadata": {},
   "outputs": [],
   "source": [
    "temp_test=[]\n",
    "unique_rows = np.unique(y_test, axis=0)\n",
    "i=0\n",
    "d={}\n",
    "for i in range(len(unique_rows)):\n",
    "    d[str(unique_rows[i])]=i\n",
    "for i in y_test:\n",
    "    temp_test.append(d[str(i)])"
   ]
  },
  {
   "cell_type": "code",
   "execution_count": 17,
   "metadata": {},
   "outputs": [],
   "source": [
    "y_hat_reduced = clf3.predict(X_test)"
   ]
  },
  {
   "cell_type": "code",
   "execution_count": 18,
   "metadata": {},
   "outputs": [
    {
     "name": "stdout",
     "output_type": "stream",
     "text": [
      "accuracy: 0.617124394184168\n"
     ]
    }
   ],
   "source": [
    "print(\"accuracy: \" + str(accuracy_score(np.array(temp_test), y_hat_reduced)))"
   ]
  },
  {
   "cell_type": "code",
   "execution_count": 19,
   "metadata": {},
   "outputs": [
    {
     "data": {
      "text/plain": [
       "MLPClassifier(activation='relu', alpha=1e-05, batch_size='auto', beta_1=0.9,\n",
       "       beta_2=0.999, early_stopping=False, epsilon=1e-08,\n",
       "       hidden_layer_sizes=(100, 100, 100, 100), learning_rate='constant',\n",
       "       learning_rate_init=0.001, max_iter=200, momentum=0.9,\n",
       "       nesterovs_momentum=True, power_t=0.5, random_state=1, shuffle=True,\n",
       "       solver='adam', tol=0.0001, validation_fraction=0.1, verbose=False,\n",
       "       warm_start=False)"
      ]
     },
     "execution_count": 19,
     "metadata": {},
     "output_type": "execute_result"
    }
   ],
   "source": [
    "clf.fit(X_train,y_train)"
   ]
  },
  {
   "cell_type": "code",
   "execution_count": 20,
   "metadata": {},
   "outputs": [],
   "source": [
    "y_hat_reduced = clf.predict(X_test)"
   ]
  },
  {
   "cell_type": "code",
   "execution_count": 21,
   "metadata": {},
   "outputs": [
    {
     "name": "stdout",
     "output_type": "stream",
     "text": [
      "accuracy: 0.4894991922455573\n"
     ]
    }
   ],
   "source": [
    " print(\"accuracy: \" + str(accuracy_score(y_test, y_hat_reduced)))"
   ]
  },
  {
   "cell_type": "code",
   "execution_count": 22,
   "metadata": {},
   "outputs": [
    {
     "name": "stdout",
     "output_type": "stream",
     "text": [
      "Nearest Neighbors\n",
      "Nearest Neighbors:0.5105008077544426\n",
      "Gaussian Process\n",
      "Gaussian Process:0.09531502423263329\n",
      "Decision Tree\n",
      "Decision Tree:0.36348949919224555\n",
      "Random Forest\n",
      "Random Forest:0.4297253634894992\n",
      "AdaBoost\n",
      "AdaBoost:0.37479806138933763\n",
      "Naive Bayes\n",
      "Naive Bayes:0.4911147011308562\n",
      "QDA\n",
      "QDA:0.5815831987075929\n",
      "Linear SVC\n",
      "Linear SVC:0.5331179321486268\n"
     ]
    }
   ],
   "source": [
    "for i in range(8):\n",
    "    print(names[i])\n",
    "    classifiers[i].fit(X_train, np.array(temp_train))\n",
    "    score = classifiers[i].score(X_test, np.array(temp_test))\n",
    "    print(names[i]+':'+str(score))"
   ]
  },
  {
   "cell_type": "code",
   "execution_count": 23,
   "metadata": {},
   "outputs": [],
   "source": [
    "import pickle\n",
    "model={}\n",
    "model[0]=s\n",
    "pickle.dump(model, open( \"savefit-MCMCLatent5.p\", \"wb\" ) )"
   ]
  },
  {
   "cell_type": "code",
   "execution_count": 24,
   "metadata": {},
   "outputs": [],
   "source": [
    "import pickle\n",
    "model={}\n",
    "model[0]=samples\n",
    "pickle.dump(model, open( \"savefit-MCMCsamples.p\", \"wb\" ) )"
   ]
  },
  {
   "cell_type": "code",
   "execution_count": null,
   "metadata": {},
   "outputs": [],
   "source": []
  }
 ],
 "metadata": {
  "kernelspec": {
   "display_name": "Python 3",
   "language": "python",
   "name": "python3"
  },
  "language_info": {
   "codemirror_mode": {
    "name": "ipython",
    "version": 3
   },
   "file_extension": ".py",
   "mimetype": "text/x-python",
   "name": "python",
   "nbconvert_exporter": "python",
   "pygments_lexer": "ipython3",
   "version": "3.6.5"
  }
 },
 "nbformat": 4,
 "nbformat_minor": 2
}
